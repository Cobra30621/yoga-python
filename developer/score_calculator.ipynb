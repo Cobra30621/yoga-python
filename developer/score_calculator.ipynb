{
 "cells": [
  {
   "cell_type": "markdown",
   "source": [
    "## 瑜珈分數計算\n",
    "\n"
   ],
   "metadata": {
    "collapsed": false
   },
   "id": "885e2db3f5596298"
  },
  {
   "cell_type": "markdown",
   "source": [
    "### 1. python class 方置區\n",
    "\n",
    "此區放置之後回移植到 android studio 的 python 檔案\n",
    "在完成研究後，記得把程式碼複製上去\n",
    "\n",
    "- ScoreCalculator.py"
   ],
   "metadata": {
    "collapsed": false
   },
   "id": "c6df7c4473f30d71"
  },
  {
   "cell_type": "code",
   "execution_count": 1,
   "outputs": [],
   "source": [
    "from AngleCalculator import calculate_angle, calculate_angle_in_andriodStudio\n",
    "from yogaFileGetter import get_sample_angle_dict, get_std_angle_dict, get_weight_angle_dict\n",
    "\n",
    "\n",
    "class ScoreCalculator:\n",
    "    def __init__(self, pose_name):\n",
    "        self.pose_name = pose_name\n",
    "\n",
    "        self.average_angle_dict = get_sample_angle_dict(pose_name)\n",
    "        self.std_angle_dict = get_std_angle_dict(pose_name)\n",
    "        self.weight = get_weight_angle_dict(pose_name)\n",
    "\n",
    "        self.score_dict = {}\n",
    "\n",
    "    def calculate_score(self, point3d, is_android_studio):\n",
    "        if is_android_studio:\n",
    "            input_angle = calculate_angle_in_andriodStudio(self.pose_name, point3d)\n",
    "        else:\n",
    "            input_angle = calculate_angle(self.pose_name, point3d)\n",
    "\n",
    "        self.score_dict = {}\n",
    "        for joint, input_value in input_angle.items():\n",
    "            average_value = self.average_angle_dict.get(joint, None)\n",
    "            std_value = self.std_angle_dict.get(joint, None)\n",
    "\n",
    "            if average_value is not None and std_value is not None:\n",
    "                diff = abs(input_value - average_value)\n",
    "\n",
    "                if diff <= 2 * std_value:\n",
    "                    self.score_dict[joint] = 100\n",
    "                elif diff <= 3 * std_value:\n",
    "                    self.score_dict[joint] = 50\n",
    "                else:\n",
    "                    self.score_dict[joint] = 0\n",
    "\n",
    "        # 使用字典生成式計算差異\n",
    "        difference_dict = {joint: input_angle[joint] - self.average_angle_dict[joint] for joint in input_angle if\n",
    "                           joint in self.average_angle_dict}\n",
    "        difference_dict = {joint: round(value, 1) for joint, value in difference_dict.items()}\n",
    "\n",
    "        # 打印結果\n",
    "        print(\"偵測角度\", input_angle)\n",
    "        print(\"平均角度\", self.average_angle_dict)\n",
    "        print(\"關節差距\", difference_dict)\n",
    "        # 使用字典生成式將所有元素乘以 2\n",
    "        full_score_range_dict = {joint: value * 2 for joint, value in self.std_angle_dict.items()}\n",
    "        print(\"滿分區間\", full_score_range_dict)\n",
    "        print(\"關節得分\", self.score_dict)\n",
    "\n",
    "        # 計算總和\n",
    "        sum_score = 0\n",
    "        max_score = 0\n",
    "        for joint, score in self.score_dict.items():\n",
    "            weight = self.weight.get(joint, None)\n",
    "\n",
    "            sum_score += weight * score\n",
    "            max_score += weight\n",
    "\n",
    "        # 計算平均值\n",
    "        average_value = sum_score / max_score\n",
    "\n",
    "        return int(average_value)"
   ],
   "metadata": {
    "collapsed": false,
    "ExecuteTime": {
     "end_time": "2024-06-20T07:44:24.662748500Z",
     "start_time": "2024-06-20T07:44:24.640716400Z"
    }
   },
   "id": "2e06491ecfa74a66"
  },
  {
   "cell_type": "code",
   "execution_count": 1,
   "outputs": [],
   "source": [],
   "metadata": {
    "collapsed": false,
    "ExecuteTime": {
     "end_time": "2024-06-20T07:44:24.991753Z",
     "start_time": "2024-06-20T07:44:24.975025400Z"
    }
   },
   "id": "9c6c91434e92bdf"
  },
  {
   "cell_type": "markdown",
   "source": [
    "## 2. 研究區\n",
    "\n",
    "此區放置不會移植到 android 的檔案"
   ],
   "metadata": {
    "collapsed": false
   },
   "id": "6e3172def2e710c5"
  },
  {
   "cell_type": "markdown",
   "source": [
    "### 測試瑜珈分數計算器"
   ],
   "metadata": {
    "collapsed": false
   },
   "id": "73322722e052c376"
  },
  {
   "cell_type": "code",
   "execution_count": 2,
   "outputs": [],
   "source": [
    "\n",
    "from AngleCalculator import calculate_angle\n",
    "from develop_tool import draw_skeleton, get_image_files, get_Mediapipe_point\n",
    "import cv2\n",
    "\n",
    "# 顯示有分數 + 骨架的圖片\n",
    "def display(image, name, pose, calculator):\n",
    "    point2d, point3d = get_Mediapipe_point(image)\n",
    "    if point2d is not None :\n",
    "        score = calculator.calculate_score(point3d, False)\n",
    "        print(score)\n",
    "\n",
    "        cv2.putText(image, \"Score:\" + str(score), (10, 100), cv2.FONT_HERSHEY_PLAIN, 3, (0, 0, 255), 5)\n",
    "        image2 = image\n",
    "\n",
    "        # cv2.imshow(name, image)\n",
    "        draw_skeleton(image2, point2d)\n",
    "        cv2.imshow(name + \"2\", image2)\n",
    "\n",
    "# 顯示影片\n",
    "def show_video(video_path, pose, calculator):\n",
    "    cap = cv2.VideoCapture(video_path)\n",
    "\n",
    "    while True:\n",
    "        ret, frame = cap.read()\n",
    "        if not ret:\n",
    "            print(\"Video end\")\n",
    "            break\n",
    "\n",
    "        display(frame, \"video\", pose, calculator)\n",
    "\n",
    "        if cv2.waitKey(1) & 0xFF == ord('q'):\n",
    "            break\n",
    "\n",
    "    cap.release()\n",
    "    cv2.destroyAllWindows()\n",
    "    \n",
    "    \n",
    "# 顯示整個資料夾的圖片\n",
    "def show_image_list(image_path, pose, calculator):\n",
    "    image_files = get_image_files(image_path)\n",
    "\n",
    "    for name in image_files:\n",
    "        print(name)\n",
    "        image = cv2.imread(name, cv2.IMREAD_UNCHANGED)\n",
    "\n",
    "        display(image, name, pose, calculator)\n",
    "\n",
    "    # 按下任意鍵則關閉所有視窗\n",
    "    cv2.waitKey(0)\n",
    "    cv2.destroyAllWindows()\n",
    "\n",
    "# 顯示單張圖片\n",
    "def show_image(image_path, pose, calculator):\n",
    "    image = cv2.imread(image_path, cv2.IMREAD_UNCHANGED)\n",
    "\n",
    "    display(image, image_path, pose, calculator)\n",
    "\n",
    "    # 按下任意鍵則關閉所有視窗\n",
    "    cv2.waitKey(0)\n",
    "    cv2.destroyAllWindows()\n",
    "\n",
    "\n",
    "\n"
   ],
   "metadata": {
    "collapsed": false,
    "ExecuteTime": {
     "end_time": "2024-06-20T07:44:26.785073100Z",
     "start_time": "2024-06-20T07:44:25.566073Z"
    }
   },
   "id": "10ca6d5c5a7d459d"
  },
  {
   "cell_type": "code",
   "execution_count": 5,
   "outputs": [
    {
     "name": "stdout",
     "output_type": "stream",
     "text": [
      "JsonFile/Tree Style/sample_score.json\n",
      "{'LEFT_SHOULDER': 169.3, 'RIGHT_SHOULDER': 156.8, 'LEFT_ELBOW': 150.3, 'RIGHT_ELBOW': 160.3, 'LEFT_HIP': 96.2, 'RIGHT_HIP': 132.6, 'LEFT_KNEE': 145.3, 'RIGHT_KNEE': 51.3}\n",
      "JsonFile/Tree Style/std_angle.json\n",
      "{'LEFT_SHOULDER': 4.1, 'RIGHT_SHOULDER': 5.8, 'LEFT_ELBOW': 5.0, 'RIGHT_ELBOW': 4.9, 'LEFT_HIP': 4.6, 'RIGHT_HIP': 3.5, 'LEFT_KNEE': 4.0, 'RIGHT_KNEE': 5.9}\n",
      "JsonFile/Tree Style/weight.json\n",
      "{'LEFT_SHOULDER': 1, 'RIGHT_SHOULDER': 1, 'LEFT_ELBOW': 1, 'RIGHT_ELBOW': 1, 'LEFT_HIP': 1, 'RIGHT_HIP': 1, 'LEFT_KNEE': 1, 'RIGHT_KNEE': 1}\n",
      "../data/image/Tree Style\\104219019_1190511144647284_4399436672269641201_n.jpg\n",
      "偵測角度 {'LEFT_SHOULDER': 118.5, 'RIGHT_SHOULDER': 32.5, 'LEFT_ELBOW': 163.9, 'RIGHT_ELBOW': 40.2, 'LEFT_HIP': 92.6, 'RIGHT_HIP': 141.9, 'LEFT_KNEE': 141.4, 'RIGHT_KNEE': 52.4}\n",
      "平均角度 {'LEFT_SHOULDER': 169.3, 'RIGHT_SHOULDER': 156.8, 'LEFT_ELBOW': 150.3, 'RIGHT_ELBOW': 160.3, 'LEFT_HIP': 96.2, 'RIGHT_HIP': 132.6, 'LEFT_KNEE': 145.3, 'RIGHT_KNEE': 51.3}\n",
      "關節差距 {'LEFT_SHOULDER': -50.8, 'RIGHT_SHOULDER': -124.3, 'LEFT_ELBOW': 13.6, 'RIGHT_ELBOW': -120.1, 'LEFT_HIP': -3.6, 'RIGHT_HIP': 9.3, 'LEFT_KNEE': -3.9, 'RIGHT_KNEE': 1.1}\n",
      "滿分區間 {'LEFT_SHOULDER': 8.2, 'RIGHT_SHOULDER': 11.6, 'LEFT_ELBOW': 10.0, 'RIGHT_ELBOW': 9.8, 'LEFT_HIP': 9.2, 'RIGHT_HIP': 7.0, 'LEFT_KNEE': 8.0, 'RIGHT_KNEE': 11.8}\n",
      "關節得分 {'LEFT_SHOULDER': 0, 'RIGHT_SHOULDER': 0, 'LEFT_ELBOW': 50, 'RIGHT_ELBOW': 0, 'LEFT_HIP': 100, 'RIGHT_HIP': 50, 'LEFT_KNEE': 100, 'RIGHT_KNEE': 100}\n",
      "50\n",
      "../data/image/Tree Style\\106.jpg\n",
      "偵測角度 {'LEFT_SHOULDER': 171.6, 'RIGHT_SHOULDER': 156.4, 'LEFT_ELBOW': 145.3, 'RIGHT_ELBOW': 161.2, 'LEFT_HIP': 94.6, 'RIGHT_HIP': 130.3, 'LEFT_KNEE': 151.3, 'RIGHT_KNEE': 52.4}\n",
      "平均角度 {'LEFT_SHOULDER': 169.3, 'RIGHT_SHOULDER': 156.8, 'LEFT_ELBOW': 150.3, 'RIGHT_ELBOW': 160.3, 'LEFT_HIP': 96.2, 'RIGHT_HIP': 132.6, 'LEFT_KNEE': 145.3, 'RIGHT_KNEE': 51.3}\n",
      "關節差距 {'LEFT_SHOULDER': 2.3, 'RIGHT_SHOULDER': -0.4, 'LEFT_ELBOW': -5.0, 'RIGHT_ELBOW': 0.9, 'LEFT_HIP': -1.6, 'RIGHT_HIP': -2.3, 'LEFT_KNEE': 6.0, 'RIGHT_KNEE': 1.1}\n",
      "滿分區間 {'LEFT_SHOULDER': 8.2, 'RIGHT_SHOULDER': 11.6, 'LEFT_ELBOW': 10.0, 'RIGHT_ELBOW': 9.8, 'LEFT_HIP': 9.2, 'RIGHT_HIP': 7.0, 'LEFT_KNEE': 8.0, 'RIGHT_KNEE': 11.8}\n",
      "關節得分 {'LEFT_SHOULDER': 100, 'RIGHT_SHOULDER': 100, 'LEFT_ELBOW': 100, 'RIGHT_ELBOW': 100, 'LEFT_HIP': 100, 'RIGHT_HIP': 100, 'LEFT_KNEE': 100, 'RIGHT_KNEE': 100}\n",
      "100\n",
      "../data/image/Tree Style\\teacher.jpg\n",
      "偵測角度 {'LEFT_SHOULDER': 166.2, 'RIGHT_SHOULDER': 151.8, 'LEFT_ELBOW': 158.5, 'RIGHT_ELBOW': 156.8, 'LEFT_HIP': 97.3, 'RIGHT_HIP': 129.0, 'LEFT_KNEE': 149.2, 'RIGHT_KNEE': 52.1}\n",
      "平均角度 {'LEFT_SHOULDER': 169.3, 'RIGHT_SHOULDER': 156.8, 'LEFT_ELBOW': 150.3, 'RIGHT_ELBOW': 160.3, 'LEFT_HIP': 96.2, 'RIGHT_HIP': 132.6, 'LEFT_KNEE': 145.3, 'RIGHT_KNEE': 51.3}\n",
      "關節差距 {'LEFT_SHOULDER': -3.1, 'RIGHT_SHOULDER': -5.0, 'LEFT_ELBOW': 8.2, 'RIGHT_ELBOW': -3.5, 'LEFT_HIP': 1.1, 'RIGHT_HIP': -3.6, 'LEFT_KNEE': 3.9, 'RIGHT_KNEE': 0.8}\n",
      "滿分區間 {'LEFT_SHOULDER': 8.2, 'RIGHT_SHOULDER': 11.6, 'LEFT_ELBOW': 10.0, 'RIGHT_ELBOW': 9.8, 'LEFT_HIP': 9.2, 'RIGHT_HIP': 7.0, 'LEFT_KNEE': 8.0, 'RIGHT_KNEE': 11.8}\n",
      "關節得分 {'LEFT_SHOULDER': 100, 'RIGHT_SHOULDER': 100, 'LEFT_ELBOW': 100, 'RIGHT_ELBOW': 100, 'LEFT_HIP': 100, 'RIGHT_HIP': 100, 'LEFT_KNEE': 100, 'RIGHT_KNEE': 100}\n",
      "100\n",
      "../data/image/Tree Style\\1-0.png\n",
      "偵測角度 {'LEFT_SHOULDER': 174.3, 'RIGHT_SHOULDER': 153.5, 'LEFT_ELBOW': 137.8, 'RIGHT_ELBOW': 150.5, 'LEFT_HIP': 95.0, 'RIGHT_HIP': 118.7, 'LEFT_KNEE': 151.9, 'RIGHT_KNEE': 79.5}\n",
      "平均角度 {'LEFT_SHOULDER': 169.3, 'RIGHT_SHOULDER': 156.8, 'LEFT_ELBOW': 150.3, 'RIGHT_ELBOW': 160.3, 'LEFT_HIP': 96.2, 'RIGHT_HIP': 132.6, 'LEFT_KNEE': 145.3, 'RIGHT_KNEE': 51.3}\n",
      "關節差距 {'LEFT_SHOULDER': 5.0, 'RIGHT_SHOULDER': -3.3, 'LEFT_ELBOW': -12.5, 'RIGHT_ELBOW': -9.8, 'LEFT_HIP': -1.2, 'RIGHT_HIP': -13.9, 'LEFT_KNEE': 6.6, 'RIGHT_KNEE': 28.2}\n",
      "滿分區間 {'LEFT_SHOULDER': 8.2, 'RIGHT_SHOULDER': 11.6, 'LEFT_ELBOW': 10.0, 'RIGHT_ELBOW': 9.8, 'LEFT_HIP': 9.2, 'RIGHT_HIP': 7.0, 'LEFT_KNEE': 8.0, 'RIGHT_KNEE': 11.8}\n",
      "關節得分 {'LEFT_SHOULDER': 100, 'RIGHT_SHOULDER': 100, 'LEFT_ELBOW': 50, 'RIGHT_ELBOW': 50, 'LEFT_HIP': 100, 'RIGHT_HIP': 0, 'LEFT_KNEE': 100, 'RIGHT_KNEE': 0}\n",
      "62\n",
      "../data/image/Tree Style\\11-0.png\n",
      "偵測角度 {'LEFT_SHOULDER': 173.7, 'RIGHT_SHOULDER': 153.7, 'LEFT_ELBOW': 144.9, 'RIGHT_ELBOW': 155.3, 'LEFT_HIP': 103.7, 'RIGHT_HIP': 119.5, 'LEFT_KNEE': 145.9, 'RIGHT_KNEE': 62.8}\n",
      "平均角度 {'LEFT_SHOULDER': 169.3, 'RIGHT_SHOULDER': 156.8, 'LEFT_ELBOW': 150.3, 'RIGHT_ELBOW': 160.3, 'LEFT_HIP': 96.2, 'RIGHT_HIP': 132.6, 'LEFT_KNEE': 145.3, 'RIGHT_KNEE': 51.3}\n",
      "關節差距 {'LEFT_SHOULDER': 4.4, 'RIGHT_SHOULDER': -3.1, 'LEFT_ELBOW': -5.4, 'RIGHT_ELBOW': -5.0, 'LEFT_HIP': 7.5, 'RIGHT_HIP': -13.1, 'LEFT_KNEE': 0.6, 'RIGHT_KNEE': 11.5}\n",
      "滿分區間 {'LEFT_SHOULDER': 8.2, 'RIGHT_SHOULDER': 11.6, 'LEFT_ELBOW': 10.0, 'RIGHT_ELBOW': 9.8, 'LEFT_HIP': 9.2, 'RIGHT_HIP': 7.0, 'LEFT_KNEE': 8.0, 'RIGHT_KNEE': 11.8}\n",
      "關節得分 {'LEFT_SHOULDER': 100, 'RIGHT_SHOULDER': 100, 'LEFT_ELBOW': 100, 'RIGHT_ELBOW': 100, 'LEFT_HIP': 100, 'RIGHT_HIP': 0, 'LEFT_KNEE': 100, 'RIGHT_KNEE': 100}\n",
      "87\n",
      "../data/image/Tree Style\\33-0.png\n",
      "偵測角度 {'LEFT_SHOULDER': 174.4, 'RIGHT_SHOULDER': 157.3, 'LEFT_ELBOW': 148.6, 'RIGHT_ELBOW': 159.1, 'LEFT_HIP': 99.1, 'RIGHT_HIP': 133.4, 'LEFT_KNEE': 147.0, 'RIGHT_KNEE': 48.3}\n",
      "平均角度 {'LEFT_SHOULDER': 169.3, 'RIGHT_SHOULDER': 156.8, 'LEFT_ELBOW': 150.3, 'RIGHT_ELBOW': 160.3, 'LEFT_HIP': 96.2, 'RIGHT_HIP': 132.6, 'LEFT_KNEE': 145.3, 'RIGHT_KNEE': 51.3}\n",
      "關節差距 {'LEFT_SHOULDER': 5.1, 'RIGHT_SHOULDER': 0.5, 'LEFT_ELBOW': -1.7, 'RIGHT_ELBOW': -1.2, 'LEFT_HIP': 2.9, 'RIGHT_HIP': 0.8, 'LEFT_KNEE': 1.7, 'RIGHT_KNEE': -3.0}\n",
      "滿分區間 {'LEFT_SHOULDER': 8.2, 'RIGHT_SHOULDER': 11.6, 'LEFT_ELBOW': 10.0, 'RIGHT_ELBOW': 9.8, 'LEFT_HIP': 9.2, 'RIGHT_HIP': 7.0, 'LEFT_KNEE': 8.0, 'RIGHT_KNEE': 11.8}\n",
      "關節得分 {'LEFT_SHOULDER': 100, 'RIGHT_SHOULDER': 100, 'LEFT_ELBOW': 100, 'RIGHT_ELBOW': 100, 'LEFT_HIP': 100, 'RIGHT_HIP': 100, 'LEFT_KNEE': 100, 'RIGHT_KNEE': 100}\n",
      "100\n"
     ]
    }
   ],
   "source": [
    "pose_list = [\"Tree Style\", \"Warrior2 Style\", \"Plank\", \"Reverse Plank\", \"Child's pose\", \"Downward dog\", \"Low Lunge\", \"Seated Forward Bend\", \"Bridge pose\", \"Pyramid pose\"]\n",
    "\n",
    "pose = 'Tree Style'\n",
    "calculator = ScoreCalculator(pose)\n",
    "\n",
    "# 顯示影片\n",
    "# video_path = \"../data/video/棒式教學.mp4\"\n",
    "# show_video(video_path , pose, calculator) \n",
    "\n",
    "# 顯示單張圖片\n",
    "# image_path = \"data/image/LowLunge/cobra2.png\"\n",
    "# show_image(image_path , pose, calculator) \n",
    "\n",
    "# 顯示整個資料夾的圖片\n",
    "folder_path = \"../data/image/\" + pose\n",
    "show_image_list(folder_path, pose, calculator) "
   ],
   "metadata": {
    "collapsed": false,
    "ExecuteTime": {
     "end_time": "2024-06-20T07:48:31.987753500Z",
     "start_time": "2024-06-20T07:48:25.742954800Z"
    }
   },
   "id": "afae7711e98d44a3"
  },
  {
   "cell_type": "code",
   "execution_count": null,
   "outputs": [],
   "source": [],
   "metadata": {
    "collapsed": false
   },
   "id": "e9077f3be0640fd9"
  },
  {
   "cell_type": "code",
   "execution_count": null,
   "outputs": [],
   "source": [],
   "metadata": {
    "collapsed": false
   },
   "id": "fe253ccfa5a67d66"
  }
 ],
 "metadata": {
  "kernelspec": {
   "display_name": "Python 3",
   "language": "python",
   "name": "python3"
  },
  "language_info": {
   "codemirror_mode": {
    "name": "ipython",
    "version": 2
   },
   "file_extension": ".py",
   "mimetype": "text/x-python",
   "name": "python",
   "nbconvert_exporter": "python",
   "pygments_lexer": "ipython2",
   "version": "2.7.6"
  }
 },
 "nbformat": 4,
 "nbformat_minor": 5
}
